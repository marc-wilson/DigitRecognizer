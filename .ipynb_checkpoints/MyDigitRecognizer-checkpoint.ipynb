{
 "cells": [
  {
   "cell_type": "code",
   "execution_count": 7,
   "metadata": {
    "pycharm": {
     "is_executing": true
    }
   },
   "outputs": [],
   "source": [
    "import pandas as pd\n",
    "import time\n",
    "from matplotlib import pyplot as plt\n",
    "import tensorflow as tf\n",
    "from sklearn.model_selection import train_test_split\n",
    "import numpy as np\n",
    "from tensorflow.keras.models import Sequential\n",
    "from tensorflow.keras.layers import Dense, Flatten, Conv2D, Dropout, MaxPool2D"
   ]
  },
  {
   "cell_type": "code",
   "execution_count": 8,
   "metadata": {
    "pycharm": {
     "is_executing": true
    }
   },
   "outputs": [],
   "source": [
    "df = pd.read_csv('data/train.csv')"
   ]
  },
  {
   "cell_type": "code",
   "execution_count": 9,
   "metadata": {
    "pycharm": {
     "is_executing": true
    }
   },
   "outputs": [],
   "source": [
    "def showImage(index):\n",
    "    local_df = df.iloc[index]\n",
    "    local_df.drop(labels=['label'], inplace=True)\n",
    "    values = local_df.values.reshape(28, 28)\n",
    "    plt.imshow(values)\n"
   ]
  },
  {
   "cell_type": "code",
   "execution_count": 10,
   "metadata": {
    "pycharm": {
     "is_executing": true
    }
   },
   "outputs": [
    {
     "data": {
      "image/png": "[encoded data removed]",
      "text/plain": [
       "<Figure size 432x288 with 1 Axes>"
      ]
     },
     "metadata": {
      "needs_background": "light"
     },
     "output_type": "display_data"
    }
   ],
   "source": [
    "showImage(45)"
   ]
  },
  {
   "cell_type": "code",
   "execution_count": 11,
   "metadata": {
    "pycharm": {
     "is_executing": true
    }
   },
   "outputs": [
    {
     "name": "stdout",
     "output_type": "stream",
     "text": [
      "x_train (33600, 28, 28, 1)\n",
      "x_test (8400, 28, 28, 1)\n"
     ]
    }
   ],
   "source": [
    "labels = df['label'].values\n",
    "x_train = df.drop(columns=['label']).values / 255\n",
    "x_train, x_test, y_train, y_test = train_test_split(x_train, labels, test_size=0.2)\n",
    "\n",
    "x_train = x_train.reshape(x_train.shape[0], 28, 28, 1)\n",
    "x_test = x_test.reshape(x_test.shape[0], 28, 28, 1)\n",
    "\n",
    "print('x_train', x_train.shape)\n",
    "print('x_test', x_test.shape)"
   ]
  },
  {
   "cell_type": "code",
   "execution_count": 12,
   "metadata": {
    "pycharm": {
     "is_executing": true
    }
   },
   "outputs": [
    {
     "name": "stdout",
     "output_type": "stream",
     "text": [
      "Epoch 1/5\n",
      "33600/33600 [==============================] - 98s 3ms/sample - loss: 0.1533 - acc: 0.9527\n",
      "Epoch 2/5\n",
      "33600/33600 [==============================] - 97s 3ms/sample - loss: 0.0458 - acc: 0.9858\n",
      "Epoch 3/5\n",
      "33600/33600 [==============================] - 99s 3ms/sample - loss: 0.0280 - acc: 0.9907\n",
      "Epoch 4/5\n",
      "33600/33600 [==============================] - 100s 3ms/sample - loss: 0.0196 - acc: 0.9940\n",
      "Epoch 5/5\n",
      "33600/33600 [==============================] - 103s 3ms/sample - loss: 0.0158 - acc: 0.9944\n",
      "Seconds:  497.49448108673096\n"
     ]
    }
   ],
   "source": [
    "time_start = time.time()\n",
    "kernel_size = (3, 3)\n",
    "\n",
    "model = Sequential()\n",
    "model.add(Conv2D(128, kernel_size=kernel_size, input_shape=(28, 28, 1), padding='same', activation=tf.nn.relu ))\n",
    "model.add(Conv2D(64, kernel_size=kernel_size, padding='same', activation=tf.nn.relu))\n",
    "model.add(MaxPool2D(pool_size=(2, 2)))\n",
    "model.add(Flatten())\n",
    "model.add(Dense(64, activation=tf.nn.relu))\n",
    "model.add(Dense(10, activation=tf.nn.softmax))\n",
    "model.compile(optimizer='adam', loss='sparse_categorical_crossentropy', metrics=['accuracy'])\n",
    "# x_val = x_train[:10000]\n",
    "# y_val = labels[:10000]\n",
    "model.fit(x_train, y_train, epochs=5) # , validation_data=(x_val, y_val))\n",
    "print('Seconds: ', time.time() - time_start)"
   ]
  },
  {
   "cell_type": "code",
   "execution_count": 13,
   "metadata": {
    "pycharm": {
     "is_executing": true
    }
   },
   "outputs": [
    {
     "name": "stdout",
     "output_type": "stream",
     "text": [
      "Model: \"sequential_1\"\n",
      "_________________________________________________________________\n",
      "Layer (type)                 Output Shape              Param #   \n",
      "=================================================================\n",
      "conv2d_2 (Conv2D)            (None, 28, 28, 128)       1280      \n",
      "_________________________________________________________________\n",
      "conv2d_3 (Conv2D)            (None, 28, 28, 64)        73792     \n",
      "_________________________________________________________________\n",
      "max_pooling2d_1 (MaxPooling2 (None, 14, 14, 64)        0         \n",
      "_________________________________________________________________\n",
      "flatten_1 (Flatten)          (None, 12544)             0         \n",
      "_________________________________________________________________\n",
      "dense_2 (Dense)              (None, 64)                802880    \n",
      "_________________________________________________________________\n",
      "dense_3 (Dense)              (None, 10)                650       \n",
      "=================================================================\n",
      "Total params: 878,602\n",
      "Trainable params: 878,602\n",
      "Non-trainable params: 0\n",
      "_________________________________________________________________\n"
     ]
    }
   ],
   "source": [
    "predictions = model.predict([x_test])\n",
    "model.summary()"
   ]
  },
  {
   "cell_type": "code",
   "execution_count": 14,
   "metadata": {
    "pycharm": {
     "is_executing": true
    }
   },
   "outputs": [
    {
     "name": "stdout",
     "output_type": "stream",
     "text": [
      "Misses:      135\n",
      "Prediction:  3\n",
      "Actual:      5\n",
      "(8400, 10)\n"
     ]
    },
    {
     "data": {
      "text/plain": [
       "<matplotlib.image.AxesImage at 0x138f4fa90>"
      ]
     },
     "execution_count": 14,
     "metadata": {},
     "output_type": "execute_result"
    },
    {
     "data": {
      "image/png": "[encoded data removed]",
      "text/plain": [
       "<Figure size 432x288 with 1 Axes>"
      ]
     },
     "metadata": {
      "needs_background": "light"
     },
     "output_type": "display_data"
    }
   ],
   "source": [
    "first_missed_index = 0\n",
    "misses = 0\n",
    "for idx in range(len(predictions)):\n",
    "    _prediction = np.argmax(predictions[idx])\n",
    "    _actual = y_test[idx]\n",
    "    if _prediction != _actual:\n",
    "        misses += 1\n",
    "        if first_missed_index == 0:\n",
    "            first_missed_index = idx\n",
    "        # print(f'Index: {idx} | Predicted: {_prediction} | Actual: {_actual}')\n",
    "\n",
    "print('Misses:     ', misses)\n",
    "index_to_predict = first_missed_index\n",
    "print('Prediction: ', np.argmax(predictions[index_to_predict]))\n",
    "print('Actual:     ', y_test[index_to_predict])\n",
    "print(predictions.shape)\n",
    "vals = x_test[index_to_predict].reshape(28, 28)\n",
    "plt.imshow(vals)"
   ]
  },
  {
   "cell_type": "code",
   "execution_count": null,
   "metadata": {
    "pycharm": {
     "is_executing": true
    }
   },
   "outputs": [],
   "source": []
  },
  {
   "cell_type": "code",
   "execution_count": null,
   "metadata": {
    "pycharm": {
     "is_executing": true
    }
   },
   "outputs": [],
   "source": []
  }
 ],
 "metadata": {
  "kernelspec": {
   "display_name": "Python 3",
   "language": "python",
   "name": "python3"
  },
  "language_info": {
   "codemirror_mode": {
    "name": "ipython",
    "version": 3
   },
   "file_extension": ".py",
   "mimetype": "text/x-python",
   "name": "python",
   "nbconvert_exporter": "python",
   "pygments_lexer": "ipython3",
   "version": "3.7.0"
  }
 },
 "nbformat": 4,
 "nbformat_minor": 2
}
