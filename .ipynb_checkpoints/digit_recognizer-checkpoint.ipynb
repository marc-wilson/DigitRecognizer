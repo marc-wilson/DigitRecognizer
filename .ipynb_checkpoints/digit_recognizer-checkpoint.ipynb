{
 "cells": [
  {
   "cell_type": "code",
   "execution_count": null,
   "metadata": {
    "pycharm": {
     "is_executing": true
    }
   },
   "outputs": [],
   "source": [
    "# https://www.kaggle.com/c/digit-recognizer/overview/tutorial\n",
    "# https://stackoverflow.com/questions/46495215/what-is-the-difference-between-x-train-and-x-test-in-keras\n",
    "import numpy as np\n",
    "import scipy.misc as smp\n",
    "import pandas as pd\n",
    "from PIL import Image\n",
    "from matplotlib import pyplot as plt\n",
    "import tensorflow as tf"
   ]
  },
  {
   "cell_type": "code",
   "execution_count": null,
   "metadata": {},
   "outputs": [],
   "source": []
  },
  {
   "cell_type": "code",
   "execution_count": 29,
   "metadata": {
    "pycharm": {
     "is_executing": true
    }
   },
   "outputs": [
    {
     "name": "stdout",
     "output_type": "stream",
     "text": [
      "(42000, 785)\n",
      "(28000, 784)\n"
     ]
    }
   ],
   "source": [
    "train = pd.read_csv('data/train.csv')\n",
    "print(train.shape)\n",
    "test = pd.read_csv('data/test.csv')\n",
    "print(test.shape)\n",
    "y_train = train['label'].values\n",
    "X_train = train.drop(columns=['label']).values / 255\n",
    "X_test = test.values / 255"
   ]
  },
  {
   "cell_type": "code",
   "execution_count": 45,
   "metadata": {
    "pycharm": {
     "is_executing": true
    }
   },
   "outputs": [
    {
     "name": "stdout",
     "output_type": "stream",
     "text": [
      "Epoch 1/3\n",
      "42000/42000 [==============================] - 2s 50us/sample - loss: 0.5192 - acc: 0.8670\n",
      "Epoch 2/3\n",
      "42000/42000 [==============================] - 2s 47us/sample - loss: 0.3144 - acc: 0.9131\n",
      "Epoch 3/3\n",
      "42000/42000 [==============================] - 2s 47us/sample - loss: 0.2871 - acc: 0.9193\n"
     ]
    }
   ],
   "source": [
    "model = tf.keras.models.Sequential()\n",
    "model.add(tf.keras.layers.Flatten())\n",
    "# model.add(tf.keras.layers.Dense(128, activation=tf.nn.tanh))\n",
    "# model.add(tf.keras.layers.Dense(128, activation=tf.nn.tanh))\n",
    "model.add(tf.keras.layers.Dense(10, activation=tf.nn.softmax))\n",
    "model.compile(optimizer='adam', loss='sparse_categorical_crossentropy', metrics=['accuracy'])\n",
    "\n",
    "model.fit(X_train, y_train, epochs=3)\n",
    "\n",
    "predictions = model.predict([X_test])"
   ]
  },
  {
   "cell_type": "code",
   "execution_count": 50,
   "metadata": {
    "pycharm": {
     "is_executing": true
    }
   },
   "outputs": [
    {
     "name": "stdout",
     "output_type": "stream",
     "text": [
      "Prediction:  9\n",
      "Actual:      9\n",
      "(28000, 10)\n"
     ]
    },
    {
     "data": {
      "text/plain": [
       "<matplotlib.image.AxesImage at 0x135401b70>"
      ]
     },
     "execution_count": 50,
     "metadata": {},
     "output_type": "execute_result"
    },
    {
     "data": {
      "image/png": "[encoded data removed]",
      "text/plain": [
       "<Figure size 432x288 with 1 Axes>"
      ]
     },
     "metadata": {
      "needs_background": "light"
     },
     "output_type": "display_data"
    }
   ],
   "source": [
    "index_to_predict = 3\n",
    "print('Prediction: ', np.argmax(predictions[index_to_predict]))\n",
    "print('Actual:     ', predictions.argmax(axis=-1)[index_to_predict])\n",
    "print(predictions.shape)\n",
    "vals = X_test[index_to_predict].reshape(28, 28)\n",
    "plt.imshow(vals)"
   ]
  },
  {
   "cell_type": "code",
   "execution_count": 11,
   "metadata": {
    "pycharm": {
     "is_executing": true
    }
   },
   "outputs": [
    {
     "name": "stdout",
     "output_type": "stream",
     "text": [
      "misses:  0\n"
     ]
    }
   ],
   "source": [
    "misses = 0\n",
    "for idx in range(len(predictions)):\n",
    "    _prediction = np.argmax(predictions[idx])\n",
    "    _actual = predictions.argmax(axis=-1)[idx]\n",
    "    if _prediction != _actual:\n",
    "        misses += 1\n",
    "\n",
    "print('misses: ', misses)"
   ]
  }
 ],
 "metadata": {
  "kernelspec": {
   "display_name": "Python 3",
   "language": "python",
   "name": "python3"
  },
  "language_info": {
   "codemirror_mode": {
    "name": "ipython",
    "version": 3
   },
   "file_extension": ".py",
   "mimetype": "text/x-python",
   "name": "python",
   "nbconvert_exporter": "python",
   "pygments_lexer": "ipython3",
   "version": "3.7.0"
  }
 },
 "nbformat": 4,
 "nbformat_minor": 1
}
