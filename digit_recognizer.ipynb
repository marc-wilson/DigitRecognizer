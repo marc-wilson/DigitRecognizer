{
 "cells": [
  {
   "cell_type": "code",
   "execution_count": 41,
   "metadata": {
    "pycharm": {
     "is_executing": false
    }
   },
   "outputs": [],
   "source": [
    "# https://www.kaggle.com/c/digit-recognizer/overview/tutorial\n",
    "import numpy as np\n",
    "import scipy.misc as smp\n",
    "import pandas as pd\n",
    "from PIL import Image\n",
    "from matplotlib import pyplot as plt\n",
    "import tensorflow as tf"
   ]
  },
  {
   "cell_type": "code",
   "execution_count": 42,
   "metadata": {},
   "outputs": [],
   "source": [
    "train = pd.read_csv('data/train.csv')\n",
    "test = pd.read_csv('data/test.csv')\n",
    "y_train = train['label'].values\n",
    "X_train = train.drop(columns=['label']).values / 255\n",
    "X_test = test.values / 255"
   ]
  },
  {
   "cell_type": "code",
   "execution_count": 43,
   "metadata": {
    "scrolled": true
   },
   "outputs": [
    {
     "name": "stdout",
     "output_type": "stream",
     "text": [
      "Epoch 1/3\n",
      "42000/42000 [==============================] - 2s 56us/sample - loss: 0.2912 - acc: 0.9176\n",
      "Epoch 2/3\n",
      "42000/42000 [==============================] - 2s 55us/sample - loss: 0.1265 - acc: 0.9621\n",
      "Epoch 3/3\n",
      "42000/42000 [==============================] - 2s 54us/sample - loss: 0.0859 - acc: 0.9741\n"
     ]
    },
    {
     "data": {
      "text/plain": [
       "array([[3.60582447e-07, 7.29316815e-11, 9.99997497e-01, ...,\n",
       "        7.15790307e-08, 2.45217905e-07, 2.88023383e-09],\n",
       "       [9.99886513e-01, 5.45482983e-08, 9.98294672e-06, ...,\n",
       "        5.10317591e-07, 1.93069774e-08, 4.17698828e-07],\n",
       "       [1.55388319e-04, 2.80268228e-04, 8.95328238e-04, ...,\n",
       "        2.89594592e-03, 1.59852859e-02, 9.28016543e-01],\n",
       "       ...,\n",
       "       [1.10275816e-10, 3.42547537e-08, 3.85792376e-08, ...,\n",
       "        8.77884343e-09, 1.32187324e-06, 6.62296407e-06],\n",
       "       [1.58534942e-06, 5.52768995e-08, 2.01124344e-08, ...,\n",
       "        5.32950944e-05, 3.10828227e-06, 9.97633934e-01],\n",
       "       [1.48421089e-08, 2.57082106e-10, 9.99986053e-01, ...,\n",
       "        8.77991124e-10, 6.70194780e-08, 1.36114187e-08]], dtype=float32)"
      ]
     },
     "execution_count": 43,
     "metadata": {},
     "output_type": "execute_result"
    }
   ],
   "source": [
    "model = tf.keras.models.Sequential()\n",
    "model.add(tf.keras.layers.Flatten())\n",
    "model.add(tf.keras.layers.Dense(128, activation=tf.nn.relu))\n",
    "#model.add(tf.keras.layers.Dense(128, activation=tf.nn.relu))\n",
    "model.add(tf.keras.layers.Dense(10, activation=tf.nn.softmax))\n",
    "model.compile(optimizer='adam', loss='sparse_categorical_crossentropy', metrics=['accuracy'])\n",
    "\n",
    "model.fit(X_train, y_train, epochs=3)\n",
    "\n",
    "predictions = model.predict([X_test])\n",
    "predictions"
   ]
  },
  {
   "cell_type": "code",
   "execution_count": 55,
   "metadata": {},
   "outputs": [
    {
     "name": "stdout",
     "output_type": "stream",
     "text": [
      "Prediction:  0\n",
      "Actual:      0\n"
     ]
    },
    {
     "data": {
      "text/plain": [
       "<matplotlib.image.AxesImage at 0x14079c780>"
      ]
     },
     "execution_count": 55,
     "metadata": {},
     "output_type": "execute_result"
    },
    {
     "data": {
      "image/png": "[encoded data removed]",
      "text/plain": [
       "<Figure size 432x288 with 1 Axes>"
      ]
     },
     "metadata": {
      "needs_background": "light"
     },
     "output_type": "display_data"
    }
   ],
   "source": [
    "index_to_predict = 2432\n",
    "print('Prediction: ', np.argmax(predictions[index_to_predict]))\n",
    "print('Actual:     ', predictions.argmax(axis=-1)[index_to_predict])\n",
    "vals = X_test[index_to_predict].reshape(28, 28)\n",
    "plt.imshow(vals)"
   ]
  },
  {
   "cell_type": "code",
   "execution_count": 51,
   "metadata": {},
   "outputs": [
    {
     "name": "stdout",
     "output_type": "stream",
     "text": [
      "9\n"
     ]
    }
   ],
   "source": [
    "print(predictions.argmax(axis=-1)[index_to_predict])"
   ]
  },
  {
   "cell_type": "code",
   "execution_count": 65,
   "metadata": {},
   "outputs": [
    {
     "name": "stdout",
     "output_type": "stream",
     "text": [
      "misses:  0\n"
     ]
    }
   ],
   "source": [
    "misses = 0\n",
    "for idx in range(len(predictions)):\n",
    "    _prediction = np.argmax(predictions[idx])\n",
    "    _actual = predictions.argmax(axis=-1)[idx]\n",
    "    if _prediction != _actual:\n",
    "        misses += 1\n",
    "        \n",
    "print('misses: ', misses)"
   ]
  },
  {
   "cell_type": "code",
   "execution_count": null,
   "metadata": {},
   "outputs": [],
   "source": []
  }
 ],
 "metadata": {
  "kernelspec": {
   "display_name": "Python 3",
   "language": "python",
   "name": "python3"
  },
  "language_info": {
   "codemirror_mode": {
    "name": "ipython",
    "version": 3
   },
   "file_extension": ".py",
   "mimetype": "text/x-python",
   "name": "python",
   "nbconvert_exporter": "python",
   "pygments_lexer": "ipython3",
   "version": "3.7.0"
  }
 },
 "nbformat": 4,
 "nbformat_minor": 1
}
